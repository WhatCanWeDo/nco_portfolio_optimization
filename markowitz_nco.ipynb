{
  "cells": [
    {
      "cell_type": "markdown",
      "metadata": {
        "id": "-ff1AnjNsIlI"
      },
      "source": [
        "### Portfolio allocation using Markowitz mean-variance model and nested clustered optimization"
      ]
    },
    {
      "cell_type": "code",
      "execution_count": 1,
      "metadata": {
        "id": "Rlxqto5NsIlM"
      },
      "outputs": [],
      "source": [
        "import numpy as np\n",
        "import pandas as pd\n",
        "import seaborn as sns \n",
        "import matplotlib.pyplot as plt\n",
        "\n",
        "from scipy.optimize import minimize, LinearConstraint\n",
        "from sklearn.neighbors import KernelDensity\n",
        "from sklearn.metrics import mean_squared_error, silhouette_samples\n",
        "from sklearn.cluster import KMeans\n",
        "\n",
        "from typing import Tuple, Callable, Literal, Union\n",
        "\n",
        "from datetime import datetime as dt\n",
        "\n",
        "sns.set(rc={'figure.figsize':(9, 9)})\n",
        "np.random.seed(7)"
      ]
    },
    {
      "cell_type": "code",
      "execution_count": 2,
      "metadata": {
        "colab": {
          "base_uri": "https://localhost:8080/",
          "height": 487
        },
        "id": "Wr4Cg_sxsIlM",
        "outputId": "09bab6bd-0a7d-4ce7-fbcc-d13b6a23f6bf"
      },
      "outputs": [
        {
          "data": {
            "text/html": [
              "<div>\n",
              "<style scoped>\n",
              "    .dataframe tbody tr th:only-of-type {\n",
              "        vertical-align: middle;\n",
              "    }\n",
              "\n",
              "    .dataframe tbody tr th {\n",
              "        vertical-align: top;\n",
              "    }\n",
              "\n",
              "    .dataframe thead th {\n",
              "        text-align: right;\n",
              "    }\n",
              "</style>\n",
              "<table border=\"1\" class=\"dataframe\">\n",
              "  <thead>\n",
              "    <tr style=\"text-align: right;\">\n",
              "      <th></th>\n",
              "      <th>Argentina: BNY Mellon Argentina ADR</th>\n",
              "      <th>Argentina: BNY Mellon Argentina ADR TR</th>\n",
              "      <th>Argentina: S&amp;P Merval</th>\n",
              "      <th>Argentina: S&amp;P/BYMA Argentina General</th>\n",
              "      <th>Australia: ASX All Ordinaries</th>\n",
              "      <th>Australia: ASX All Ordinaries Gold</th>\n",
              "      <th>Australia: ASX Small Ordinaries</th>\n",
              "      <th>Australia: BNY Mellon Australia ADR</th>\n",
              "      <th>Australia: BNY Mellon Australia ADR TR</th>\n",
              "      <th>Australia: FTSE Australia</th>\n",
              "      <th>...</th>\n",
              "      <th>World: TR/CC CRB Soybeans</th>\n",
              "      <th>World: TR/CC CRB Sugar</th>\n",
              "      <th>World: TR/CC CRB TR</th>\n",
              "      <th>World: TR/CC CRB Unleaded Gas</th>\n",
              "      <th>World: TR/CC CRB Wheat</th>\n",
              "      <th>World: TR/CC CRB ex Energy ER</th>\n",
              "      <th>World: TR/CC CRB ex Energy TR</th>\n",
              "      <th>World: WTI Futures Long USD</th>\n",
              "      <th>World: World Water CW</th>\n",
              "      <th>World: World Water TR CW</th>\n",
              "    </tr>\n",
              "    <tr>\n",
              "      <th>Date</th>\n",
              "      <th></th>\n",
              "      <th></th>\n",
              "      <th></th>\n",
              "      <th></th>\n",
              "      <th></th>\n",
              "      <th></th>\n",
              "      <th></th>\n",
              "      <th></th>\n",
              "      <th></th>\n",
              "      <th></th>\n",
              "      <th></th>\n",
              "      <th></th>\n",
              "      <th></th>\n",
              "      <th></th>\n",
              "      <th></th>\n",
              "      <th></th>\n",
              "      <th></th>\n",
              "      <th></th>\n",
              "      <th></th>\n",
              "      <th></th>\n",
              "      <th></th>\n",
              "    </tr>\n",
              "  </thead>\n",
              "  <tbody>\n",
              "    <tr>\n",
              "      <th>2012-01-02</th>\n",
              "      <td>67.987712</td>\n",
              "      <td>96.175352</td>\n",
              "      <td>1183.707845</td>\n",
              "      <td>71550.898756</td>\n",
              "      <td>3259.150352</td>\n",
              "      <td>5306.428352</td>\n",
              "      <td>1633.480771</td>\n",
              "      <td>223.303644</td>\n",
              "      <td>355.339260</td>\n",
              "      <td>265.228248</td>\n",
              "      <td>...</td>\n",
              "      <td>12.018717</td>\n",
              "      <td>19.151213</td>\n",
              "      <td>268.241778</td>\n",
              "      <td>14.954768</td>\n",
              "      <td>3.574582</td>\n",
              "      <td>155.078519</td>\n",
              "      <td>276.749408</td>\n",
              "      <td>702.333321</td>\n",
              "      <td>1416.096473</td>\n",
              "      <td>1803.912911</td>\n",
              "    </tr>\n",
              "    <tr>\n",
              "      <th>2012-01-03</th>\n",
              "      <td>70.257200</td>\n",
              "      <td>99.386961</td>\n",
              "      <td>1234.451984</td>\n",
              "      <td>73815.487325</td>\n",
              "      <td>3264.193677</td>\n",
              "      <td>5370.440733</td>\n",
              "      <td>1645.534166</td>\n",
              "      <td>223.303644</td>\n",
              "      <td>355.339260</td>\n",
              "      <td>268.076305</td>\n",
              "      <td>...</td>\n",
              "      <td>12.215584</td>\n",
              "      <td>20.145613</td>\n",
              "      <td>268.241778</td>\n",
              "      <td>15.467880</td>\n",
              "      <td>3.597938</td>\n",
              "      <td>155.078519</td>\n",
              "      <td>276.749408</td>\n",
              "      <td>731.683221</td>\n",
              "      <td>1424.253604</td>\n",
              "      <td>1814.305272</td>\n",
              "    </tr>\n",
              "    <tr>\n",
              "      <th>2012-01-04</th>\n",
              "      <td>72.825517</td>\n",
              "      <td>103.022668</td>\n",
              "      <td>1305.235178</td>\n",
              "      <td>76443.479483</td>\n",
              "      <td>3330.424627</td>\n",
              "      <td>5450.592434</td>\n",
              "      <td>1670.697370</td>\n",
              "      <td>224.047760</td>\n",
              "      <td>356.519720</td>\n",
              "      <td>273.939950</td>\n",
              "      <td>...</td>\n",
              "      <td>12.240192</td>\n",
              "      <td>20.070904</td>\n",
              "      <td>268.601054</td>\n",
              "      <td>15.681048</td>\n",
              "      <td>3.559719</td>\n",
              "      <td>154.415102</td>\n",
              "      <td>275.583209</td>\n",
              "      <td>733.533215</td>\n",
              "      <td>1447.814903</td>\n",
              "      <td>1844.307787</td>\n",
              "    </tr>\n",
              "    <tr>\n",
              "      <th>2012-01-05</th>\n",
              "      <td>72.817440</td>\n",
              "      <td>103.014433</td>\n",
              "      <td>1305.105397</td>\n",
              "      <td>76255.341385</td>\n",
              "      <td>3296.716050</td>\n",
              "      <td>5411.204191</td>\n",
              "      <td>1660.808157</td>\n",
              "      <td>220.499430</td>\n",
              "      <td>350.872840</td>\n",
              "      <td>270.948295</td>\n",
              "      <td>...</td>\n",
              "      <td>12.031021</td>\n",
              "      <td>20.070904</td>\n",
              "      <td>264.101558</td>\n",
              "      <td>15.412230</td>\n",
              "      <td>3.446122</td>\n",
              "      <td>154.415102</td>\n",
              "      <td>275.583209</td>\n",
              "      <td>723.511820</td>\n",
              "      <td>1447.359857</td>\n",
              "      <td>1843.729015</td>\n",
              "    </tr>\n",
              "    <tr>\n",
              "      <th>2012-01-06</th>\n",
              "      <td>73.786617</td>\n",
              "      <td>104.381426</td>\n",
              "      <td>1331.330652</td>\n",
              "      <td>76983.633861</td>\n",
              "      <td>3271.444438</td>\n",
              "      <td>5450.964348</td>\n",
              "      <td>1649.737815</td>\n",
              "      <td>217.082009</td>\n",
              "      <td>345.439961</td>\n",
              "      <td>268.610814</td>\n",
              "      <td>...</td>\n",
              "      <td>11.906749</td>\n",
              "      <td>20.209615</td>\n",
              "      <td>264.905651</td>\n",
              "      <td>15.500893</td>\n",
              "      <td>3.421704</td>\n",
              "      <td>154.761951</td>\n",
              "      <td>276.219393</td>\n",
              "      <td>721.733255</td>\n",
              "      <td>1447.486259</td>\n",
              "      <td>1843.890730</td>\n",
              "    </tr>\n",
              "  </tbody>\n",
              "</table>\n",
              "<p>5 rows × 1084 columns</p>\n",
              "</div>"
            ],
            "text/plain": [
              "            Argentina: BNY Mellon Argentina ADR  \\\n",
              "Date                                              \n",
              "2012-01-02                            67.987712   \n",
              "2012-01-03                            70.257200   \n",
              "2012-01-04                            72.825517   \n",
              "2012-01-05                            72.817440   \n",
              "2012-01-06                            73.786617   \n",
              "\n",
              "            Argentina: BNY Mellon Argentina ADR TR  Argentina: S&P Merval  \\\n",
              "Date                                                                        \n",
              "2012-01-02                               96.175352            1183.707845   \n",
              "2012-01-03                               99.386961            1234.451984   \n",
              "2012-01-04                              103.022668            1305.235178   \n",
              "2012-01-05                              103.014433            1305.105397   \n",
              "2012-01-06                              104.381426            1331.330652   \n",
              "\n",
              "            Argentina: S&P/BYMA Argentina General  \\\n",
              "Date                                                \n",
              "2012-01-02                           71550.898756   \n",
              "2012-01-03                           73815.487325   \n",
              "2012-01-04                           76443.479483   \n",
              "2012-01-05                           76255.341385   \n",
              "2012-01-06                           76983.633861   \n",
              "\n",
              "            Australia: ASX All Ordinaries  Australia: ASX All Ordinaries Gold  \\\n",
              "Date                                                                            \n",
              "2012-01-02                    3259.150352                         5306.428352   \n",
              "2012-01-03                    3264.193677                         5370.440733   \n",
              "2012-01-04                    3330.424627                         5450.592434   \n",
              "2012-01-05                    3296.716050                         5411.204191   \n",
              "2012-01-06                    3271.444438                         5450.964348   \n",
              "\n",
              "            Australia: ASX Small Ordinaries  \\\n",
              "Date                                          \n",
              "2012-01-02                      1633.480771   \n",
              "2012-01-03                      1645.534166   \n",
              "2012-01-04                      1670.697370   \n",
              "2012-01-05                      1660.808157   \n",
              "2012-01-06                      1649.737815   \n",
              "\n",
              "            Australia: BNY Mellon Australia ADR  \\\n",
              "Date                                              \n",
              "2012-01-02                           223.303644   \n",
              "2012-01-03                           223.303644   \n",
              "2012-01-04                           224.047760   \n",
              "2012-01-05                           220.499430   \n",
              "2012-01-06                           217.082009   \n",
              "\n",
              "            Australia: BNY Mellon Australia ADR TR  Australia: FTSE Australia  \\\n",
              "Date                                                                            \n",
              "2012-01-02                              355.339260                 265.228248   \n",
              "2012-01-03                              355.339260                 268.076305   \n",
              "2012-01-04                              356.519720                 273.939950   \n",
              "2012-01-05                              350.872840                 270.948295   \n",
              "2012-01-06                              345.439961                 268.610814   \n",
              "\n",
              "            ...  World: TR/CC CRB Soybeans  World: TR/CC CRB Sugar  \\\n",
              "Date        ...                                                      \n",
              "2012-01-02  ...                  12.018717               19.151213   \n",
              "2012-01-03  ...                  12.215584               20.145613   \n",
              "2012-01-04  ...                  12.240192               20.070904   \n",
              "2012-01-05  ...                  12.031021               20.070904   \n",
              "2012-01-06  ...                  11.906749               20.209615   \n",
              "\n",
              "            World: TR/CC CRB TR  World: TR/CC CRB Unleaded Gas  \\\n",
              "Date                                                             \n",
              "2012-01-02           268.241778                      14.954768   \n",
              "2012-01-03           268.241778                      15.467880   \n",
              "2012-01-04           268.601054                      15.681048   \n",
              "2012-01-05           264.101558                      15.412230   \n",
              "2012-01-06           264.905651                      15.500893   \n",
              "\n",
              "            World: TR/CC CRB Wheat  World: TR/CC CRB ex Energy ER  \\\n",
              "Date                                                                \n",
              "2012-01-02                3.574582                     155.078519   \n",
              "2012-01-03                3.597938                     155.078519   \n",
              "2012-01-04                3.559719                     154.415102   \n",
              "2012-01-05                3.446122                     154.415102   \n",
              "2012-01-06                3.421704                     154.761951   \n",
              "\n",
              "            World: TR/CC CRB ex Energy TR  World: WTI Futures Long USD  \\\n",
              "Date                                                                     \n",
              "2012-01-02                     276.749408                   702.333321   \n",
              "2012-01-03                     276.749408                   731.683221   \n",
              "2012-01-04                     275.583209                   733.533215   \n",
              "2012-01-05                     275.583209                   723.511820   \n",
              "2012-01-06                     276.219393                   721.733255   \n",
              "\n",
              "            World: World Water CW  World: World Water TR CW  \n",
              "Date                                                         \n",
              "2012-01-02            1416.096473               1803.912911  \n",
              "2012-01-03            1424.253604               1814.305272  \n",
              "2012-01-04            1447.814903               1844.307787  \n",
              "2012-01-05            1447.359857               1843.729015  \n",
              "2012-01-06            1447.486259               1843.890730  \n",
              "\n",
              "[5 rows x 1084 columns]"
            ]
          },
          "execution_count": 2,
          "metadata": {},
          "output_type": "execute_result"
        }
      ],
      "source": [
        "df = pd.read_csv('indices.csv')\n",
        "df['Date'] = pd.to_datetime(df['Date'])\n",
        "df.set_index('Date', inplace=True)\n",
        "\n",
        "df.head()"
      ]
    },
    {
      "cell_type": "markdown",
      "metadata": {
        "id": "MICLhFyivnIG"
      },
      "source": [
        "We make orders only once, so to cope with NaNs we could simply use linear interpolation"
      ]
    },
    {
      "cell_type": "code",
      "execution_count": 3,
      "metadata": {
        "id": "csZMpmw2sIlO"
      },
      "outputs": [],
      "source": [
        "df = df.interpolate(method='linear', limit_direction='both')"
      ]
    },
    {
      "cell_type": "markdown",
      "metadata": {
        "id": "vppUDo27QecQ"
      },
      "source": [
        "## Portfolio allocation"
      ]
    },
    {
      "cell_type": "markdown",
      "metadata": {
        "id": "D62Fh16qQiqn"
      },
      "source": [
        "For the portfolio allocation we will use Markowitz's mean-variance model:\n",
        "\n",
        "We consider a universe of $n$ assets. Let $w = (w_1, w_2, \\dots w_n)$ be the vector of weights in the portfolio. We assume, that portfolio is fully invested: $1_n^T w = 1$. We denote $r = (r_1, r_2 \\dots r_n)$ be the vector of returns. \n",
        "\n",
        "The return of the portfolio is equal $r(w) = w^T r$. Let $\\mu = E[r]$ be the vector of expected returns, $V$ be the covariance matrix of assets returns.\n",
        "$\\mu(w) = w^T \\mu$. Variance $\\sigma^2(w) = E[(r(w) - \\mu(w)(r(w) - \\mu(w))^T)] = w^T V w$.\n",
        "\n",
        "\n",
        "\n",
        "Markowitz (1952) formulated the investor's financial problem as follows:\n",
        "1. Maximizing the expected return of the portfolio under a volatility constraint ($\\sigma$-problem) $$max \\,\\, \\mu(w) \\,\\, s.t. \\,\\, \\sigma(w) \\le \\sigma^*$$\n",
        "\n",
        "2. Or minimizing the volatility of the portfolio under a return constraint ($\\mu$-problem) $$min \\,\\, \\sigma(w) \\,\\, s.t. \\,\\, \\mu(w) \\ge \\mu^*$$\n",
        "\n",
        "Markowitz's bright idea was to consider a quadratic utility function: $$U(w) = w^T \\mu - \\frac{\\phi}{2} w^T Vw$$\n",
        "where $\\phi \\ge 0$ is the risk aversion. So, Markowitz's problems ($\\sigma$-problem and $\\mu$-problem) cat be cast to  $$min \\,\\, -U(w) \\,\\, s.t. \\,\\, 1_n^T w = 1$$.\n",
        "\n",
        "Also, we add L2 regularization term, it encourages diversification, so our optimization problem is: $$min \\,\\, -U(w) + \\gamma \\cdot w^T w \\,\\, s.t. \\,\\, 1_n^T w = 1$$\n",
        "\n",
        "We will take this model as our allocation method"
      ]
    },
    {
      "cell_type": "markdown",
      "metadata": {
        "id": "tyVNwPaRqDe8"
      },
      "source": [
        "### Expected returns \n",
        "There is at least 2 approaches for estimating expected returns:\n",
        "\n",
        "1. Expected returns is the mean of historical returns.\n",
        "2. Calculate expected returns using exponential moving average, it gives more weights to recent returns and thus aims to increase the relevance of estimates.\n",
        "\n",
        "We will try all of these 2 approaches."
      ]
    },
    {
      "cell_type": "code",
      "execution_count": 4,
      "metadata": {},
      "outputs": [],
      "source": [
        "def create_loss(\n",
        "    mu: np.ndarray, \n",
        "    cov: np.ndarray, \n",
        "    risk_aversion: float = 1., \n",
        "    gamma: float = 1.) -> Callable:\n",
        "    \"\"\"\n",
        "    Function for creating loss function which will be minimized.\n",
        "\n",
        "    args:\n",
        "        mu: expected return\n",
        "        cov: covariance matrix of returns\n",
        "        risk_aversion: float number characterized model attention to risk reduction instead of return increase\n",
        "        gamma: weigth of L2 regularization\n",
        "\n",
        "    returns:\n",
        "        loss function to minimize.\n",
        "    \"\"\"\n",
        "    mu = mu.to_numpy()\n",
        "    cov = cov.to_numpy()\n",
        "    \n",
        "    def loss(w):\n",
        "        return -(np.dot(w, mu) -  (risk_aversion / 2) * np.dot(w.T, cov).dot(w)) + gamma * np.dot(w.T, w)\n",
        "\n",
        "    return loss"
      ]
    },
    {
      "cell_type": "code",
      "execution_count": 5,
      "metadata": {},
      "outputs": [],
      "source": [
        "def prices2returns(prices: pd.DataFrame) -> pd.DataFrame:\n",
        "    \"\"\"\n",
        "    Converts prices to returns.\n",
        "\n",
        "    args:\n",
        "        prices: prices\n",
        "    \n",
        "    returns:\n",
        "        prices returns.\n",
        "    \"\"\"\n",
        "    return prices.pct_change().fillna(value=0.)\n"
      ]
    },
    {
      "cell_type": "code",
      "execution_count": 6,
      "metadata": {},
      "outputs": [],
      "source": [
        "def mean_return(prices: pd.DataFrame) -> pd.Series:\n",
        "    \"\"\"\n",
        "    Calculates returns using geometric mean.\n",
        "\n",
        "    args:\n",
        "        prices: prices dataframe\n",
        "\n",
        "    returns:\n",
        "        array containing return of each stock.\n",
        "    \"\"\"\n",
        "    returns = prices2returns(prices)\n",
        "    return 100 * ((1 + returns).prod()**(1 / returns.count()) - 1) # scaling to deal with gradient vanishing in optimization methods\n",
        "\n",
        "\n",
        "def ema_return(prices: pd.DataFrame, span: int = 500) -> pd.Series:\n",
        "    \"\"\"\n",
        "    Calculates returns using exponential moving average.\n",
        "\n",
        "    args:\n",
        "        prices: prices dataframe\n",
        "        span: time-span for the ema in days.\n",
        "\n",
        "    returns:\n",
        "        array containing return of each stock.\n",
        "    \"\"\"\n",
        "    returns = prices2returns(prices)\n",
        "    return 100 * ((1 + returns.ewm(span=span).mean().iloc[-1]) - 1) # scaling to deal with gradient vanishing in optimization methods"
      ]
    },
    {
      "cell_type": "code",
      "execution_count": 7,
      "metadata": {},
      "outputs": [],
      "source": [
        "def covariance_matrix(prices: pd.DataFrame) -> pd.DataFrame:\n",
        "    \"\"\"\n",
        "    Calculates covariance matrix.\n",
        "\n",
        "    args:\n",
        "        prices: prices dataframe\n",
        "\n",
        "    returns:\n",
        "        covariance matrix.\n",
        "    \"\"\"\n",
        "    returns = 10 * prices2returns(prices) # scaling to deal with gradient vanishing in optimization methods\n",
        "    return returns.cov()"
      ]
    },
    {
      "cell_type": "code",
      "execution_count": 8,
      "metadata": {},
      "outputs": [],
      "source": [
        "def allocate_weights(\n",
        "    mu: np.ndarray, \n",
        "    cov: np.ndarray,\n",
        "    risk_aversion: float = 1., \n",
        "    gamma: float = 1.,\n",
        "    ) -> np.ndarray:\n",
        "    \"\"\"\n",
        "    Allocates portfolio weights by given expected returns and returns covariance matrix.\n",
        "\n",
        "    args:\n",
        "        mu: expected returns\n",
        "        cov: returns covariance matrix\n",
        "        risk_aversion: float number characterized model attention to risk reduction instead of return increase\n",
        "        gamma: weigth of L2 regularization\n",
        "    \n",
        "    returns:\n",
        "        portfolio weights.\n",
        "    \"\"\"\n",
        "    n = mu.shape[0]\n",
        "    linear_constr = LinearConstraint(np.ones((1, n)), [1.], [1.])\n",
        "    loss = create_loss(mu, cov, risk_aversion=risk_aversion, gamma=gamma)\n",
        "\n",
        "    out = minimize(loss, x0=np.asarray([1 / n] * n), bounds=[(0., 1.)] * n, constraints=linear_constr)\n",
        "\n",
        "    if not out['success']:\n",
        "        raise RuntimeError(\"Minimum wasn't found\")\n",
        "    \n",
        "    return out['x']"
      ]
    },
    {
      "cell_type": "code",
      "execution_count": 9,
      "metadata": {},
      "outputs": [],
      "source": [
        "def expected_returns(prices: pd.DataFrame, method: Literal['mean', 'ema']='mean') -> np.ndarray:\n",
        "    \"\"\"\n",
        "    Computes expected returns.\n",
        "\n",
        "    args:\n",
        "        prices: Dataframe of stock's prices; rows - dates, columns - stocks \n",
        "        method: method for computation\n",
        "\n",
        "    returns:\n",
        "        expected returns.\n",
        "    \"\"\"\n",
        "    if method == 'mean':\n",
        "        return mean_return(prices)\n",
        "    elif method == 'ema':\n",
        "        return ema_return(prices)\n",
        "    else: \n",
        "        raise NotImplementedError(f\"Method {method} is not implemented\")"
      ]
    },
    {
      "cell_type": "code",
      "execution_count": 10,
      "metadata": {
        "id": "XcrOC_5tQiJ3"
      },
      "outputs": [],
      "source": [
        "def calculate_weights(\n",
        "    prices: pd.DataFrame,\n",
        "    risk_aversion: float = 1.,\n",
        "    expected_return_method: Literal['mean', 'ema']='mean',\n",
        "    gamma: float = 1.,\n",
        "    ) -> np.ndarray:\n",
        "    \"\"\"\n",
        "    Calculates weights for stocks in portfilio.\n",
        "\n",
        "    args: \n",
        "        prices: Dataframe of stock's prices; rows - dates, columns - stocks\n",
        "        risk_aversion: float number characterized model attention to risk reduction instead of return increase\n",
        "        expected_return_method: method for calculating expected returns\n",
        "        gamma: weigth of L2 regularization\n",
        "\n",
        "    returns:\n",
        "        array of stock's weights.\n",
        "    \"\"\"\n",
        "    mu = expected_returns(prices, expected_return_method)\n",
        "    cov = covariance_matrix(prices)\n",
        "\n",
        "    return allocate_weights(mu=mu, cov=cov, risk_aversion=risk_aversion, gamma=gamma)\n"
      ]
    },
    {
      "cell_type": "markdown",
      "metadata": {
        "id": "6o-UIEsdC9d3"
      },
      "source": [
        "## Nested clustered optimization\n",
        "\n",
        "1. Denoise correlation matrix\n",
        "2. Cluster data regarding to correlation matrix\n",
        "3. Compute optimal intracluster allocations\n",
        "4. Compute optimal intercluster allocations\n",
        "5. Combine allocations together"
      ]
    },
    {
      "cell_type": "code",
      "execution_count": 11,
      "metadata": {
        "id": "hfeK9-k3d_mP"
      },
      "outputs": [],
      "source": [
        "def cov2corr(cov: np.ndarray) -> np.ndarray:\n",
        "    # on diagonals cov(x, x) = var(x)\n",
        "    std = np.sqrt(np.diag(cov))\n",
        "    corr = cov / np.outer(std, std)\n",
        "    # for numerical errors:\n",
        "    corr[corr < -1.] = -1.\n",
        "    corr[corr > 1.] = 1. \n",
        "    return corr\n",
        "\n",
        "\n",
        "def corr2cov(corr: np.ndarray, std: np.ndarray) -> np.ndarray:\n",
        "    return corr * np.outer(std, std)"
      ]
    },
    {
      "cell_type": "markdown",
      "metadata": {
        "id": "DVDiLtfmgSf0"
      },
      "source": [
        "### Denoising correlation matrix"
      ]
    },
    {
      "cell_type": "markdown",
      "metadata": {
        "id": "yAZa1jMlVltB"
      },
      "source": [
        "We want to denoise correlation matrix before clustering\n",
        "\n",
        "How to denoise? \n",
        "\n",
        "The empirical correlation matrices have noise and signal, we want to find eigenvalues which associated with noise, in order to do this, we could fit the Marchenko-Pastur distribution's variance to the variance of our empirical matrix eigenvalues.\n",
        "\n",
        "---\n",
        "***Marchenko-Pastur distribution***\n",
        "\n",
        "Consider a matrix of independent and identically distributed random observations\n",
        "$X$, of size $p \\times n$, where the underlying process generating the observations has zero mean and variance $\\sigma^2$.\n",
        "\n",
        "The matrix $C = \\frac{1}{p} X^{T} X$ has eigenvalues $\\lambda$ that asymptotically converge (as $n \\rightarrow +\\infty$ and $p \\rightarrow +\\infty$ with $1 < \\frac{p}{n} < +\\infty$) to the Marchenko-Pastur probability density function: \n",
        "\n",
        "\n",
        "$$\n",
        "f(x) =  \\frac{1}{2 \\pi \\lambda \\sigma^2 \\cdot x} \\cdot \\sqrt{(\\lambda_{+} - x)(x - \\lambda_{-})}, x \\in [\\lambda_{-}, \\lambda_{+}]\n",
        "$$\n",
        "\n",
        "\n",
        "where: $\\lambda_{-} = \\sigma^2(1 - \\sqrt{\\lambda})^2, \\lambda_{+} = \\sigma^2(1 + \\sqrt{\\lambda})^2, \\lambda = \\frac{n}{p}$ \n",
        "\n",
        "---\n",
        "Now eigenvalues in $[\\lambda_{-}, \\lambda_{+}]$ are consistent with random behaviour, specifically we will associate eigenvalues in $[0, \\lambda_+]$ with noise.\n",
        "\n",
        "How to use information about eigenvalues for denoising? \n",
        "\n",
        "---\n",
        "***Constant residual eigenvalue method***\n",
        "\n",
        "We will denoise correlation matrix by setting a constant eigenvalue instead of all eigenvalues, which associated with noise.\n",
        "\n",
        "\n",
        "Let $\\{\\lambda_k\\}_{k = 1 \\dots n}$ be descending ordered set of all eigenvalues, and $i$ be the position of the eigenvalue such that $\\lambda_i > \\lambda_+$ and $\\lambda_{i+1} \\le \\lambda_+$, then we set $\\lambda_j = \\frac{\\sum_{k = i + 1}^n \\lambda_k}{n - i}, j = i+1 \\dots n$, in other words set all noise eigenvalues by their mean value.\n",
        "\n",
        "This method preserves the trace.\n",
        "\n",
        "Given the eigenvector decomposition of our correlation matrix $C = W \\Lambda W^{-1}$, we form the denoised correlation matrix $C_1$ as \n",
        "\n",
        "$\\tilde{C_1} = W \\tilde{\\Lambda} W^{-1} = W \\tilde{\\Lambda} W^T$ last equation holds because correlation matrix is symmetric and so its eigenvectors are orthogonal.\n",
        "\n",
        "Scaling, so that the main diagonal is an array of 1s: \n",
        "\n",
        "$C_1 = \\tilde{C_1} \\cdot [diag(\\tilde{C_1})^{\\frac{1}{2}} \\cdot diag(\\tilde{C_1})^{\\frac{1}{2}^T}]^{-1}$"
      ]
    },
    {
      "cell_type": "code",
      "execution_count": 12,
      "metadata": {
        "id": "IV6uVgGufrEB"
      },
      "outputs": [],
      "source": [
        "def eig_decomposition(matrix: np.ndarray) -> Tuple[np.ndarray, np.ndarray]: \n",
        "    \"\"\"\n",
        "    Eigendecomposition.\n",
        "\n",
        "    args: \n",
        "        matrix: Hermitian matrix\n",
        "\n",
        "    returns:\n",
        "        diagonalised matrix and matrix of eigenvectors, eigenvalues on diagonal are in descending order.\n",
        "    \"\"\"\n",
        "    eigen_values, eigen_vectors = np.linalg.eigh(matrix)\n",
        "    eigen_values, eigen_vectors = eigen_values[::-1], eigen_vectors[:, ::-1] # descending order\n",
        "    return np.diag(eigen_values), eigen_vectors\n",
        "\n",
        "\n",
        "def mpPDF(var: float, lamb: float, num_points: int = 100) -> pd.Series:\n",
        "    \"\"\"\n",
        "    Function for generating points from Marchenko-Pastur distribution.\n",
        "\n",
        "    args: \n",
        "        var: variance\n",
        "        lamb: parameter, equals n / p, where p - number of stocks, n - number of observations\n",
        "        num_points: number of points to generate\n",
        "\n",
        "    returns:\n",
        "        array of generated points.\n",
        "    \"\"\"\n",
        "    lamb_min = var * (1 - lamb**0.5)**2\n",
        "    lamb_max = var * (1 + lamb**0.5)**2\n",
        "\n",
        "    values = np.linspace(lamb_min, lamb_max, num_points)\n",
        "    pdf = ((lamb_max - values) * (values - lamb_min))**0.5 / (2 * np.pi * var * values * lamb)\n",
        "    return pd.Series(pdf, index=values)\n",
        "\n",
        "\n",
        "def loss(\n",
        "    var: np.ndarray, \n",
        "    lamb: float, \n",
        "    kde: KernelDensity, \n",
        "    num_points: int = 1000, \n",
        "    loss_fn: Callable = mean_squared_error\n",
        "    ) -> float:\n",
        "    \"\"\"\n",
        "    Calculates loss between empirical and theoretical distributions.\n",
        "\n",
        "    args:\n",
        "        var: variance of theoretical distribution, np.ndarray of 1 elem for using with scipy.optimize.minimize\n",
        "        lamb: parameter of distribution\n",
        "        kde: KDE fitted on empirical data\n",
        "\n",
        "    returns:\n",
        "        loss between estimated and real points.\n",
        "    \"\"\"\n",
        "    var = var[0]\n",
        "    theoretical_pdf = mpPDF(var, lamb, num_points)\n",
        "    x = theoretical_pdf.index.values.reshape(-1, 1)\n",
        "    empirical_pdf = np.exp(kde.score_samples(x))\n",
        "\n",
        "    return loss_fn(theoretical_pdf.to_numpy(), empirical_pdf)\n",
        "\n",
        "\n",
        "def find_max_eigen_val(\n",
        "    eigen_values: np.ndarray, \n",
        "    lamb: float, \n",
        "    bandwidth: float = 0.01,\n",
        "    kernel: str = 'gaussian'\n",
        "    ) -> Tuple[float, float]:\n",
        "    \"\"\"\n",
        "    Fits Marchenko-Pastur distribution to given eigen values and \n",
        "    returns maximum random eigen_value (lambda_{+}) and found variance.\n",
        "\n",
        "    args:\n",
        "        eigen_values: empirical eigen values to fit MP distribution for\n",
        "        lamb: param of distribution, equals n / p\n",
        "        bandwidth: bandwidth of the kernel which will be fitted\n",
        "        kernel: kernel to use\n",
        "\n",
        "    returns:\n",
        "        (lambda_{+}, variance of fitted MP distribution)\n",
        "    \"\"\"\n",
        "    kde = KernelDensity(bandwidth=bandwidth, kernel=kernel).fit(eigen_values.reshape(-1, 1))\n",
        "\n",
        "    out = minimize(lambda *x: loss(*x), 0.5, args=(lamb, kde), bounds=((1e-5, 1 - 1e-5),))\n",
        "    if out['success']:\n",
        "        var = out['x'][0]\n",
        "    else:\n",
        "        var = 1.\n",
        "    \n",
        "    eigen_max = var * (1 + lamb**0.5)**2\n",
        "    return eigen_max, var\n",
        "\n",
        "\n",
        "def constant_residual_eigen_denoise(\n",
        "    eigen_values: np.ndarray, \n",
        "    eigen_vectors: np.ndarray, \n",
        "    n_facts: int\n",
        "    ) -> np.ndarray:\n",
        "    \"\"\"\n",
        "    Denoises correlation matrix by constant residual eigenvalue method.\n",
        "\n",
        "    args:\n",
        "        eigen_values: diagonal matrix of correlation matrixe's eigen values\n",
        "        eigen_vectors: array of correlation matrix eigen vectors\n",
        "        n_facts: number of columns, which contains some signal\n",
        "\n",
        "    returns:\n",
        "        denoised correlation matrix.\n",
        "    \"\"\"\n",
        "    eigen_values_ = np.diag(eigen_values).copy() # np.diag returns reference or copy depends on numpy version\n",
        "    eigen_values_[n_facts:] = eigen_values_[n_facts:].sum() / (eigen_values.shape[0] - n_facts)\n",
        "    eigen_values = np.diag(eigen_values_)\n",
        "\n",
        "    # cov2corr for scaling\n",
        "    return cov2corr(np.dot(eigen_vectors, eigen_values).dot(eigen_vectors.T))\n",
        "\n",
        "\n",
        "def denoise_corr(\n",
        "    corr: np.ndarray,\n",
        "    lamb: float,\n",
        "    bandwidth: float = 0.01,\n",
        "    kernel: str = 'gaussian'\n",
        "    ) -> np.ndarray:\n",
        "    \"\"\"\n",
        "    Denoises correlation matrix.\n",
        "\n",
        "    args:\n",
        "        corr: correlation matrix\n",
        "        lamb: param of Marchenko-Pastur distribution, equals n / p\n",
        "        bandwidth: bandwidth of the kernel which will be fitted in KDE\n",
        "        kernel: kernel to use in KDE\n",
        "\n",
        "    returns:\n",
        "        denoised correlation matrix.\n",
        "    \"\"\"\n",
        "    diag, eigen_vectors = eig_decomposition(corr)\n",
        "    eigen_values = np.diag(diag)\n",
        "    eigen_max, var = find_max_eigen_val(eigen_values, lamb=lamb, bandwidth=bandwidth, kernel=kernel)\n",
        "    n_facts = eigen_values.shape[0] - eigen_values[::-1].searchsorted(eigen_max)\n",
        "    return constant_residual_eigen_denoise(diag, eigen_vectors, n_facts)\n"
      ]
    },
    {
      "cell_type": "markdown",
      "metadata": {
        "id": "R7Odhjb5-bKa"
      },
      "source": [
        "### Clustering"
      ]
    },
    {
      "cell_type": "markdown",
      "metadata": {
        "id": "TWDNQyN9Tm5l"
      },
      "source": [
        "Now we have denoised correlation matrix and it defines metric on our stock space. \n",
        "\n",
        "For the clustering we could follow at least 3 approaches:\n",
        "1. Directly define distance matrix $d_{ij} = \\sqrt{\\frac{1}{2}(1 - c_{ij})}$, where $c_{ij}$ is correlation between $stock_i$ and $stock_j$\n",
        "2. Use the correlation matrix instead of our observation matrix. Instead of $stock_i$ we will use $c_i$\n",
        "3. Derive the observation matrix as $x_{ij} = \\sqrt{\\frac{1}{2}(1 - c_{ij})}$\n",
        "\n",
        "The advantage of options 2 and 3 is that the distance between 2 variables will be a function of multiple correlation estimates, and not only one, which makes the analysis more robust to outliers. The advantage of option 3 is that change from $c_{ij} = 0.9$ to $c_{ij} = 1$ is greater than a change from $c_{ij} = 0.1$ to $c_{ij} = 0.2$, so we will follow 3rd approach.\n",
        "\n",
        "\\\n",
        "We will use [K-Means](https://medium.com/data-folks-indonesia/step-by-step-to-understanding-k-means-clustering-and-implementation-with-sklearn-b55803f519d6) clustering. It has 2 notable limitations: first, the algorithm requires an user-set number of clusters; second, the initialization is random and so the effectiveness of the algorithm can be random.\n",
        "\n",
        "To adress first concern, we define objective function, so that we can find the optimal number of clusters. For this, we choose the silhouette score:\n",
        "$S_i = \\frac{b_i - a_i}{max(a_i, b_i)}$, where $a_i$ is the average distance between i-th element and all other elements in the ***same*** cluster, $b_i$ is the average distance between i-th element and all elements of ***nearest*** cluster. A value $S_i = 1$ means that i-th element is clustered well, while $S_i = -1$ means i-th element is clustered poorly. For a given partition our measure of clustering quality is defined as $q = \\frac{E[S_i]}{std(S_i)}$. So we can try out init number of clusters from $2$ to $\\frac{n}{2}$, where $n$ is the number of stocks.\n",
        "\n",
        "To adress second concern, we simply run our clustering $n_{init}$ times."
      ]
    },
    {
      "cell_type": "code",
      "execution_count": 13,
      "metadata": {
        "id": "04Ct6nKymabk"
      },
      "outputs": [],
      "source": [
        "def kmeans_clustering(\n",
        "    corr: np.ndarray, \n",
        "    max_n_clusters: int, \n",
        "    n_init: int = 10\n",
        "    ) -> dict:\n",
        "    \"\"\"\n",
        "    KMeans clustering on correlation matrix.\n",
        "\n",
        "    args:\n",
        "        corr: correlation matrix\n",
        "        max_n_clusters: upper bound for number of clusters to try\n",
        "        n_init: times clustering algorithm will run for every clusters number\n",
        "\n",
        "    returns:\n",
        "        mapping cluster -> array of all elements in this cluster\n",
        "    \"\"\"\n",
        "    x = ((1 - corr) / 2)**0.5\n",
        "    best_stat = None\n",
        "    labels = None\n",
        "\n",
        "    for n_clusters in range(2, max_n_clusters + 1):\n",
        "        kmeans = KMeans(n_clusters=n_clusters, n_init=n_init, random_state=7).fit(x)\n",
        "        silh = silhouette_samples(x, kmeans.labels_)\n",
        "        stat = silh.mean() / silh.std()\n",
        "        if best_stat is None or stat > best_stat:\n",
        "            best_stat = stat\n",
        "            labels = kmeans.labels_\n",
        "        \n",
        "    clusters = {i: np.where(labels == i)[0] for i in np.unique(labels)}\n",
        "    return clusters"
      ]
    },
    {
      "cell_type": "code",
      "execution_count": 14,
      "metadata": {},
      "outputs": [],
      "source": [
        "class NCO:\n",
        "    \"\"\"\n",
        "    Class for Nested clustered optimization.\n",
        "    \"\"\"\n",
        "\n",
        "    def __init__(\n",
        "        self,\n",
        "        prices: pd.DataFrame, \n",
        "        max_n_clusters: int, \n",
        "        n_init: int = 3,\n",
        "        expected_return_method: Literal['mean', 'ema'] = 'mean'):\n",
        "        \"\"\"\n",
        "        Initializes model by clustering assets using their correlation.\n",
        "\n",
        "        args:\n",
        "            prices: dataframe; rows - prices, columns - stocks\n",
        "            max_n_clusters: upper bound for number of clusters to try in clusterization\n",
        "            n_init: number to try clustering with same number of clusters\n",
        "            expected_return_method: method for calculating expected returns\n",
        "\n",
        "        returns: \n",
        "            None\n",
        "        \"\"\"\n",
        "        self.mu = expected_returns(prices, expected_return_method)\n",
        "        self.cov = covariance_matrix(prices)\n",
        "        corr = cov2corr(self.cov)\n",
        "        self.clstrs = kmeans_clustering(corr, max_n_clusters=max_n_clusters, n_init=n_init)\n",
        "\n",
        "\n",
        "    def get_weights(self, allocation_method: Callable, **kwargs) -> np.ndarray:\n",
        "        \"\"\"\n",
        "        Calclulates portfolio weigths.\n",
        "\n",
        "        args:\n",
        "            allocation_method: weights allocation method\n",
        "            **kwargs: additional arguments for weights allocation method\n",
        "\n",
        "        returns:\n",
        "            portfolio weights.\n",
        "        \"\"\"\n",
        "        weights_intra = pd.DataFrame(0, index=self.cov.index, columns=self.clstrs.keys())\n",
        "\n",
        "        for cluster, elems in self.clstrs.items():\n",
        "            cov_ = self.cov.iloc[elems, elems]\n",
        "            mu_ = self.mu.iloc[elems]\n",
        "            weights_intra.iloc[elems, cluster] = allocation_method(mu_, cov_, **kwargs).flatten()\n",
        "\n",
        "        cov_ = weights_intra.T.dot(np.dot(self.cov, weights_intra))\n",
        "        mu_ = weights_intra.T.dot(self.mu)\n",
        "\n",
        "        weigths_inter = pd.Series(allocation_method(mu_, cov_, **kwargs).flatten(), index=cov_.index)\n",
        "        return weights_intra.mul(weigths_inter, axis=1).sum(axis=1).to_numpy().flatten()\n",
        "    "
      ]
    },
    {
      "cell_type": "markdown",
      "metadata": {
        "id": "_lggw5v0WgH_"
      },
      "source": [
        "## Backtesting"
      ]
    },
    {
      "cell_type": "markdown",
      "metadata": {},
      "source": [
        "For backtesing we will simply test our methods on last 5 years in dataset, because our horizon is \"at least 5 years\". Also we will compete against baseline: equally-weighted portfolio."
      ]
    },
    {
      "cell_type": "code",
      "execution_count": 15,
      "metadata": {},
      "outputs": [],
      "source": [
        "def equally_weighted_port(_, n: int) -> np.ndarray:\n",
        "    return np.asarray([1 / n] * n)"
      ]
    },
    {
      "cell_type": "code",
      "execution_count": 16,
      "metadata": {},
      "outputs": [],
      "source": [
        "def backtest(\n",
        "    method: Union[NCO, Callable], \n",
        "    train_set: pd.DataFrame, \n",
        "    test_set: pd.DataFrame,\n",
        "    **kwargs) -> np.ndarray:\n",
        "    \"\"\"\n",
        "    Tests allocation method on given test set.\n",
        "\n",
        "    args: \n",
        "        method: method to test\n",
        "        train_set: data to train on\n",
        "        test_set: data to test on\n",
        "        **kwargs: additional kwargs for given method\n",
        "\n",
        "    returns:\n",
        "        weights which method has allocated\n",
        "    \"\"\"\n",
        "    if isinstance(method, NCO):\n",
        "        weights = method.get_weights(**kwargs)\n",
        "    else:\n",
        "        weights = method(train_set, **kwargs)\n",
        "    \n",
        "    portfolio_prices = test_set.dot(weights)\n",
        "    portfolio_returns = portfolio_prices.pct_change().fillna(0)\n",
        "    cumm_port_returns = (1 + portfolio_returns).cumprod() - 1\n",
        "    cumm_port_return = cumm_port_returns.iloc[-1]\n",
        "\n",
        "    month_returns = portfolio_returns.resample(\"M\").agg(lambda x: (1 + x).prod()**(1 / len(x)) - 1)\n",
        "\n",
        "    # risk free rate frequently assumes as zero\n",
        "    months_in_year = 12\n",
        "    mean = (1 + month_returns).prod()**(1 / len(month_returns)) - 1\n",
        "    sharpe =  months_in_year**0.5 * mean / month_returns.std()\n",
        "\n",
        "    print(F\"Cummulative portfolio return: {cumm_port_return}\")\n",
        "    print(f\"Annualized sharpe ratio: {sharpe}\")\n",
        "\n",
        "    lineplot = sns.lineplot(x=test_set.index[::15], y=cumm_port_returns[::15])\n",
        "    lineplot.set_ylabel(\"Cummulative portfolio return\")\n",
        "    sns.displot(pd.DataFrame({'Daily portfolio return':portfolio_returns}), x='Daily portfolio return')\n",
        "    return weights"
      ]
    },
    {
      "cell_type": "code",
      "execution_count": 17,
      "metadata": {},
      "outputs": [],
      "source": [
        "train_end = dt(2016, 1, 1)\n",
        "train, test = df.loc[:train_end], df.loc[train_end:]"
      ]
    },
    {
      "cell_type": "code",
      "execution_count": 18,
      "metadata": {},
      "outputs": [],
      "source": [
        "nco = NCO(train, max_n_clusters=train.shape[1] // 2, n_init=3, expected_return_method='ema')"
      ]
    },
    {
      "cell_type": "markdown",
      "metadata": {},
      "source": [
        "### Baseline"
      ]
    },
    {
      "cell_type": "code",
      "execution_count": 19,
      "metadata": {},
      "outputs": [
        {
          "name": "stdout",
          "output_type": "stream",
          "text": [
            "Cummulative portfolio return: 1.5831433182141632\n",
            "Annualized sharpe ratio: 1.3783579211540864\n"
          ]
        },
        {
          "data": {
            "image/png": "[encoded data removed]",
            "text/plain": [
              "<Figure size 432x288 with 1 Axes>"
            ]
          },
          "metadata": {
            "needs_background": "light"
          },
          "output_type": "display_data"
        },
        {
          "data": {
            "image/png": "[encoded data removed]",
            "text/plain": [
              "<Figure size 360x360 with 1 Axes>"
            ]
          },
          "metadata": {
            "needs_background": "light"
          },
          "output_type": "display_data"
        }
      ],
      "source": [
        "baseline_weights = backtest(equally_weighted_port, train, test, n=train.shape[1])"
      ]
    },
    {
      "cell_type": "markdown",
      "metadata": {},
      "source": [
        "### Risk aversion = 1"
      ]
    },
    {
      "cell_type": "code",
      "execution_count": 20,
      "metadata": {},
      "outputs": [
        {
          "name": "stdout",
          "output_type": "stream",
          "text": [
            "Cummulative portfolio return: 4.946411025516995\n",
            "Annualized sharpe ratio: 1.1347082053559077\n"
          ]
        },
        {
          "data": {
            "image/png": "[encoded data removed]",
            "text/plain": [
              "<Figure size 432x288 with 1 Axes>"
            ]
          },
          "metadata": {
            "needs_background": "light"
          },
          "output_type": "display_data"
        },
        {
          "data": {
            "image/png": "[encoded data removed]",
            "text/plain": [
              "<Figure size 360x360 with 1 Axes>"
            ]
          },
          "metadata": {
            "needs_background": "light"
          },
          "output_type": "display_data"
        }
      ],
      "source": [
        "weights_1 = backtest(calculate_weights, train, test, risk_aversion=1., gamma=0.5, expected_return_method='ema')"
      ]
    },
    {
      "cell_type": "code",
      "execution_count": 21,
      "metadata": {},
      "outputs": [
        {
          "name": "stdout",
          "output_type": "stream",
          "text": [
            "Cummulative portfolio return: 4.663751880101152\n",
            "Annualized sharpe ratio: 1.14722771540582\n"
          ]
        },
        {
          "data": {
            "image/png": "[encoded data removed]",
            "text/plain": [
              "<Figure size 432x288 with 1 Axes>"
            ]
          },
          "metadata": {
            "needs_background": "light"
          },
          "output_type": "display_data"
        },
        {
          "data": {
            "image/png": "[encoded data removed]",
            "text/plain": [
              "<Figure size 360x360 with 1 Axes>"
            ]
          },
          "metadata": {
            "needs_background": "light"
          },
          "output_type": "display_data"
        }
      ],
      "source": [
        "nco_weights_1 = backtest(nco, train, test, allocation_method=allocate_weights, risk_aversion=1., gamma=0.5)"
      ]
    },
    {
      "cell_type": "markdown",
      "metadata": {},
      "source": [
        "### Risk aversion = 30"
      ]
    },
    {
      "cell_type": "code",
      "execution_count": 22,
      "metadata": {},
      "outputs": [
        {
          "name": "stdout",
          "output_type": "stream",
          "text": [
            "Cummulative portfolio return: 2.968596392099485\n",
            "Annualized sharpe ratio: 1.3819861916188878\n"
          ]
        },
        {
          "data": {
            "image/png": "[encoded data removed]",
            "text/plain": [
              "<Figure size 432x288 with 1 Axes>"
            ]
          },
          "metadata": {
            "needs_background": "light"
          },
          "output_type": "display_data"
        },
        {
          "data": {
            "image/png": "[encoded data removed]",
            "text/plain": [
              "<Figure size 360x360 with 1 Axes>"
            ]
          },
          "metadata": {
            "needs_background": "light"
          },
          "output_type": "display_data"
        }
      ],
      "source": [
        "weights_30 = backtest(calculate_weights, train, test, risk_aversion=30., gamma=0.5, expected_return_method='ema')"
      ]
    },
    {
      "cell_type": "code",
      "execution_count": 23,
      "metadata": {},
      "outputs": [
        {
          "name": "stdout",
          "output_type": "stream",
          "text": [
            "Cummulative portfolio return: 3.022033262683874\n",
            "Annualized sharpe ratio: 1.3074596474628428\n"
          ]
        },
        {
          "data": {
            "image/png": "[encoded data removed]",
            "text/plain": [
              "<Figure size 432x288 with 1 Axes>"
            ]
          },
          "metadata": {
            "needs_background": "light"
          },
          "output_type": "display_data"
        },
        {
          "data": {
            "image/png": "[encoded data removed]",
            "text/plain": [
              "<Figure size 360x360 with 1 Axes>"
            ]
          },
          "metadata": {
            "needs_background": "light"
          },
          "output_type": "display_data"
        }
      ],
      "source": [
        "nco_weights_30 = backtest(nco, train, test, allocation_method=allocate_weights, risk_aversion=30., gamma=0.5)"
      ]
    },
    {
      "cell_type": "markdown",
      "metadata": {},
      "source": [
        "### Risk aversion = 70"
      ]
    },
    {
      "cell_type": "code",
      "execution_count": 24,
      "metadata": {},
      "outputs": [
        {
          "name": "stdout",
          "output_type": "stream",
          "text": [
            "Cummulative portfolio return: 1.8972321342517704\n",
            "Annualized sharpe ratio: 1.8099872210140115\n"
          ]
        },
        {
          "data": {
            "image/png": "[encoded data removed]",
            "text/plain": [
              "<Figure size 432x288 with 1 Axes>"
            ]
          },
          "metadata": {
            "needs_background": "light"
          },
          "output_type": "display_data"
        },
        {
          "data": {
            "image/png": "[encoded data removed]",
            "text/plain": [
              "<Figure size 360x360 with 1 Axes>"
            ]
          },
          "metadata": {
            "needs_background": "light"
          },
          "output_type": "display_data"
        }
      ],
      "source": [
        "weights_70 = backtest(calculate_weights, train, test, risk_aversion=70., gamma=0.5, expected_return_method='ema')"
      ]
    },
    {
      "cell_type": "code",
      "execution_count": 25,
      "metadata": {},
      "outputs": [
        {
          "name": "stdout",
          "output_type": "stream",
          "text": [
            "Cummulative portfolio return: 1.5745382830271817\n",
            "Annualized sharpe ratio: 1.8560580384362293\n"
          ]
        },
        {
          "data": {
            "image/png": "[encoded data removed]",
            "text/plain": [
              "<Figure size 432x288 with 1 Axes>"
            ]
          },
          "metadata": {
            "needs_background": "light"
          },
          "output_type": "display_data"
        },
        {
          "data": {
            "image/png": "[encoded data removed]",
            "text/plain": [
              "<Figure size 360x360 with 1 Axes>"
            ]
          },
          "metadata": {
            "needs_background": "light"
          },
          "output_type": "display_data"
        }
      ],
      "source": [
        "nco_weights_70 = backtest(nco, train, test, allocation_method=allocate_weights, risk_aversion=70., gamma=0.5)"
      ]
    },
    {
      "cell_type": "markdown",
      "metadata": {},
      "source": [
        "## Conclusion"
      ]
    },
    {
      "cell_type": "markdown",
      "metadata": {},
      "source": [
        "When we operating with returns, it's mean and covariance are extremely small, that's why optimization methods are suffered from gradient vanishing problem. I've fixed it a bit with scaling.\n",
        "\n",
        "As we can see methods were tested on bull market, that's why more risky strategies gained more. Now there is low market because of geo-political and other reasons, so during next 5 years I expect market growth. That's why I choose more risky strategy for long-horizon (at least 5 years) portfolio"
      ]
    },
    {
      "cell_type": "markdown",
      "metadata": {},
      "source": [
        "From evaluation I can't say that NCO improved or declined results, it requires more precise evaluation probably on other datasets"
      ]
    },
    {
      "cell_type": "markdown",
      "metadata": {},
      "source": [
        "Weights for portfolio"
      ]
    },
    {
      "cell_type": "code",
      "execution_count": 26,
      "metadata": {},
      "outputs": [
        {
          "data": {
            "text/html": [
              "<div>\n",
              "<style scoped>\n",
              "    .dataframe tbody tr th:only-of-type {\n",
              "        vertical-align: middle;\n",
              "    }\n",
              "\n",
              "    .dataframe tbody tr th {\n",
              "        vertical-align: top;\n",
              "    }\n",
              "\n",
              "    .dataframe thead th {\n",
              "        text-align: right;\n",
              "    }\n",
              "</style>\n",
              "<table border=\"1\" class=\"dataframe\">\n",
              "  <thead>\n",
              "    <tr style=\"text-align: right;\">\n",
              "      <th></th>\n",
              "      <th>weight</th>\n",
              "    </tr>\n",
              "  </thead>\n",
              "  <tbody>\n",
              "    <tr>\n",
              "      <th>Argentina: BNY Mellon Argentina ADR</th>\n",
              "      <td>6.199085e-16</td>\n",
              "    </tr>\n",
              "    <tr>\n",
              "      <th>Argentina: BNY Mellon Argentina ADR TR</th>\n",
              "      <td>0.000000e+00</td>\n",
              "    </tr>\n",
              "    <tr>\n",
              "      <th>Argentina: S&amp;P Merval</th>\n",
              "      <td>6.563703e-02</td>\n",
              "    </tr>\n",
              "    <tr>\n",
              "      <th>Argentina: S&amp;P/BYMA Argentina General</th>\n",
              "      <td>3.857071e-03</td>\n",
              "    </tr>\n",
              "    <tr>\n",
              "      <th>Australia: ASX All Ordinaries</th>\n",
              "      <td>0.000000e+00</td>\n",
              "    </tr>\n",
              "    <tr>\n",
              "      <th>...</th>\n",
              "      <td>...</td>\n",
              "    </tr>\n",
              "    <tr>\n",
              "      <th>World: TR/CC CRB ex Energy ER</th>\n",
              "      <td>0.000000e+00</td>\n",
              "    </tr>\n",
              "    <tr>\n",
              "      <th>World: TR/CC CRB ex Energy TR</th>\n",
              "      <td>0.000000e+00</td>\n",
              "    </tr>\n",
              "    <tr>\n",
              "      <th>World: WTI Futures Long USD</th>\n",
              "      <td>1.295482e-15</td>\n",
              "    </tr>\n",
              "    <tr>\n",
              "      <th>World: World Water CW</th>\n",
              "      <td>0.000000e+00</td>\n",
              "    </tr>\n",
              "    <tr>\n",
              "      <th>World: World Water TR CW</th>\n",
              "      <td>2.966016e-16</td>\n",
              "    </tr>\n",
              "  </tbody>\n",
              "</table>\n",
              "<p>1084 rows × 1 columns</p>\n",
              "</div>"
            ],
            "text/plain": [
              "                                              weight\n",
              "Argentina: BNY Mellon Argentina ADR     6.199085e-16\n",
              "Argentina: BNY Mellon Argentina ADR TR  0.000000e+00\n",
              "Argentina: S&P Merval                   6.563703e-02\n",
              "Argentina: S&P/BYMA Argentina General   3.857071e-03\n",
              "Australia: ASX All Ordinaries           0.000000e+00\n",
              "...                                              ...\n",
              "World: TR/CC CRB ex Energy ER           0.000000e+00\n",
              "World: TR/CC CRB ex Energy TR           0.000000e+00\n",
              "World: WTI Futures Long USD             1.295482e-15\n",
              "World: World Water CW                   0.000000e+00\n",
              "World: World Water TR CW                2.966016e-16\n",
              "\n",
              "[1084 rows x 1 columns]"
            ]
          },
          "execution_count": 26,
          "metadata": {},
          "output_type": "execute_result"
        }
      ],
      "source": [
        "pd.DataFrame({'weight': weights_30}, index=test.columns)"
      ]
    }
  ],
  "metadata": {
    "colab": {
      "collapsed_sections": [
        "DVDiLtfmgSf0",
        "R7Odhjb5-bKa"
      ],
      "name": "RoboAdvisory task.ipynb",
      "provenance": []
    },
    "kernelspec": {
      "display_name": "Python 3.10.6 64-bit",
      "language": "python",
      "name": "python3"
    },
    "language_info": {
      "codemirror_mode": {
        "name": "ipython",
        "version": 3
      },
      "file_extension": ".py",
      "mimetype": "text/x-python",
      "name": "python",
      "nbconvert_exporter": "python",
      "pygments_lexer": "ipython3",
      "version": "3.10.6"
    },
    "latex_envs": {
      "LaTeX_envs_menu_present": true,
      "autoclose": false,
      "autocomplete": true,
      "bibliofile": "biblio.bib",
      "cite_by": "apalike",
      "current_citInitial": 1,
      "eqLabelWithNumbers": true,
      "eqNumInitial": 1,
      "hotkeys": {
        "equation": "Ctrl-E",
        "itemize": "Ctrl-I"
      },
      "labels_anchors": false,
      "latex_user_defs": false,
      "report_style_numbering": false,
      "user_envs_cfg": false
    },
    "toc": {
      "base_numbering": 1,
      "nav_menu": {},
      "number_sections": true,
      "sideBar": true,
      "skip_h1_title": false,
      "title_cell": "Table of Contents",
      "title_sidebar": "Contents",
      "toc_cell": false,
      "toc_position": {},
      "toc_section_display": true,
      "toc_window_display": false
    },
    "varInspector": {
      "cols": {
        "lenName": 16,
        "lenType": 16,
        "lenVar": 40
      },
      "kernels_config": {
        "python": {
          "delete_cmd_postfix": "",
          "delete_cmd_prefix": "del ",
          "library": "var_list.py",
          "varRefreshCmd": "print(var_dic_list())"
        },
        "r": {
          "delete_cmd_postfix": ") ",
          "delete_cmd_prefix": "rm(",
          "library": "var_list.r",
          "varRefreshCmd": "cat(var_dic_list()) "
        }
      },
      "types_to_exclude": [
        "module",
        "function",
        "builtin_function_or_method",
        "instance",
        "_Feature"
      ],
      "window_display": false
    },
    "vscode": {
      "interpreter": {
        "hash": "e7370f93d1d0cde622a1f8e1c04877d8463912d04d973331ad4851f04de6915a"
      }
    }
  },
  "nbformat": 4,
  "nbformat_minor": 0
}
